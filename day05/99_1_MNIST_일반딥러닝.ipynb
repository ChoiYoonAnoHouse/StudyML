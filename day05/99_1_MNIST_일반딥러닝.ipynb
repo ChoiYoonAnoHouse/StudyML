{
 "cells": [
  {
   "cell_type": "markdown",
   "metadata": {},
   "source": [
    "### 사전준비"
   ]
  },
  {
   "cell_type": "code",
   "execution_count": 1,
   "metadata": {},
   "outputs": [],
   "source": [
    "# 기본적인 패키지부터 추가\n",
    "import numpy as np\n",
    "import pandas as pd\n",
    "import scipy as sp\n",
    "\n",
    "import matplotlib as mpl\n",
    "import matplotlib.pyplot as plt\n",
    "import seaborn as sns\n",
    "from matplotlib import rc\n",
    "import matplotlib.font_manager as fm\n",
    "import statsmodels.api as sm # 쓰지는 않는다.\n",
    "import sklearn as sk\n",
    "\n",
    "#한글/차트 마이너스 없애기\n",
    "\n",
    "plt.rc('font', family='Malgun Gothic')\n",
    "sns.set(font='Malgun Gothic', rc={'axes.unicode_minus':False}, style='darkgrid')"
   ]
  },
  {
   "cell_type": "markdown",
   "metadata": {},
   "source": [
    "### MNIST 다운로드"
   ]
  },
  {
   "cell_type": "code",
   "execution_count": 2,
   "metadata": {},
   "outputs": [],
   "source": [
    "from tensorflow import keras\n",
    "from tensorflow.keras.datasets.mnist import load_data \n",
    "from sklearn.model_selection import train_test_split"
   ]
  },
  {
   "cell_type": "code",
   "execution_count": 3,
   "metadata": {},
   "outputs": [],
   "source": [
    "(train_input, train_target), (test_input, test_target) = load_data()"
   ]
  },
  {
   "cell_type": "code",
   "execution_count": 4,
   "metadata": {},
   "outputs": [
    {
     "name": "stdout",
     "output_type": "stream",
     "text": [
      "(60000, 28, 28) (60000,)\n",
      "(10000, 28, 28) (10000,)\n"
     ]
    }
   ],
   "source": [
    "print(train_input.shape, train_target.shape)\n",
    "print(test_input.shape, test_target.shape)"
   ]
  },
  {
   "cell_type": "code",
   "execution_count": 5,
   "metadata": {},
   "outputs": [],
   "source": [
    "# MNIST 이미지 표현\n",
    "def show_images(dataset, label, nrow, ncol):\n",
    "    # 캔버스 설정\n",
    "    fig, axes = plt.subplots(nrows=nrow, ncols=ncol, figsize=(2*ncol, 2*nrow))\n",
    "    ax = axes.ravel()\n",
    "    \n",
    "    xlabels = label[0:nrow*ncol]\n",
    "    \n",
    "    for i in range(nrow*ncol):\n",
    "        image = dataset[i]\n",
    "        ax[i].imshow(image, cmap='gray_r')\n",
    "        ax[i].set_xticks([])\n",
    "        ax[i].set_yticks([])\n",
    "        ax[i].set_xlabel(xlabels[i])\n",
    "    \n",
    "    plt.tight_layout()\n",
    "    plt.show()"
   ]
  },
  {
   "cell_type": "code",
   "execution_count": 6,
   "metadata": {},
   "outputs": [
    {
     "data": {
      "image/png": "[encoded data removed]",
      "text/plain": [
       "<Figure size 1440x288 with 20 Axes>"
      ]
     },
     "metadata": {},
     "output_type": "display_data"
    }
   ],
   "source": [
    "show_images(train_input, train_target, 2, 10)"
   ]
  },
  {
   "cell_type": "code",
   "execution_count": 7,
   "metadata": {},
   "outputs": [
    {
     "name": "stdout",
     "output_type": "stream",
     "text": [
      "Model: \"ANN\"\n",
      "_________________________________________________________________\n",
      " Layer (type)                Output Shape              Param #   \n",
      "=================================================================\n",
      " flatten (Flatten)           (None, 784)               0         \n",
      "                                                                 \n",
      " hidden (Dense)              (None, 100)               78500     \n",
      "                                                                 \n",
      " output (Dense)              (None, 10)                1010      \n",
      "                                                                 \n",
      "=================================================================\n",
      "Total params: 79,510\n",
      "Trainable params: 79,510\n",
      "Non-trainable params: 0\n",
      "_________________________________________________________________\n"
     ]
    }
   ],
   "source": [
    "#model.add(keras.layers.Dropout(0.3))\n",
    "model = keras.Sequential(name='ANN')\n",
    "model.add(keras.layers.Flatten(input_shape=(28,28)))\n",
    "model.add(keras.layers.Dense(100, activation='relu', name='hidden'))\n",
    "model.add(keras.layers.Dense(10, activation='softmax', name='output'))\n",
    "model.summary()"
   ]
  },
  {
   "cell_type": "code",
   "execution_count": 8,
   "metadata": {},
   "outputs": [
    {
     "name": "stdout",
     "output_type": "stream",
     "text": [
      "Epoch 1/20\n",
      "591/600 [============================>.] - ETA: 0s - loss: 4.5511 - accuracy: 0.8372\n",
      "Epoch 1: val_loss improved from inf to 0.76579, saving model to ./data\\best_ann_model.h5\n",
      "600/600 [==============================] - 2s 2ms/step - loss: 4.4956 - accuracy: 0.8376 - val_loss: 0.7658 - val_accuracy: 0.8569\n",
      "Epoch 2/20\n",
      "590/600 [============================>.] - ETA: 0s - loss: 0.5684 - accuracy: 0.8833\n",
      "Epoch 2: val_loss improved from 0.76579 to 0.51512, saving model to ./data\\best_ann_model.h5\n",
      "600/600 [==============================] - 1s 2ms/step - loss: 0.5667 - accuracy: 0.8835 - val_loss: 0.5151 - val_accuracy: 0.8984\n",
      "Epoch 3/20\n",
      "596/600 [============================>.] - ETA: 0s - loss: 0.3475 - accuracy: 0.9176\n",
      "Epoch 3: val_loss improved from 0.51512 to 0.40223, saving model to ./data\\best_ann_model.h5\n",
      "600/600 [==============================] - 1s 2ms/step - loss: 0.3475 - accuracy: 0.9176 - val_loss: 0.4022 - val_accuracy: 0.9153\n",
      "Epoch 4/20\n",
      "584/600 [============================>.] - ETA: 0s - loss: 0.2580 - accuracy: 0.9344\n",
      "Epoch 4: val_loss improved from 0.40223 to 0.35846, saving model to ./data\\best_ann_model.h5\n",
      "600/600 [==============================] - 1s 2ms/step - loss: 0.2576 - accuracy: 0.9347 - val_loss: 0.3585 - val_accuracy: 0.9298\n",
      "Epoch 5/20\n",
      "581/600 [============================>.] - ETA: 0s - loss: 0.2181 - accuracy: 0.9417\n",
      "Epoch 5: val_loss improved from 0.35846 to 0.30884, saving model to ./data\\best_ann_model.h5\n",
      "600/600 [==============================] - 1s 2ms/step - loss: 0.2184 - accuracy: 0.9418 - val_loss: 0.3088 - val_accuracy: 0.9340\n",
      "Epoch 6/20\n",
      "592/600 [============================>.] - ETA: 0s - loss: 0.1885 - accuracy: 0.9475\n",
      "Epoch 6: val_loss improved from 0.30884 to 0.29579, saving model to ./data\\best_ann_model.h5\n",
      "600/600 [==============================] - 1s 2ms/step - loss: 0.1879 - accuracy: 0.9475 - val_loss: 0.2958 - val_accuracy: 0.9403\n",
      "Epoch 7/20\n",
      "596/600 [============================>.] - ETA: 0s - loss: 0.1746 - accuracy: 0.9524\n",
      "Epoch 7: val_loss improved from 0.29579 to 0.27078, saving model to ./data\\best_ann_model.h5\n",
      "600/600 [==============================] - 1s 2ms/step - loss: 0.1742 - accuracy: 0.9525 - val_loss: 0.2708 - val_accuracy: 0.9464\n",
      "Epoch 8/20\n",
      "579/600 [===========================>..] - ETA: 0s - loss: 0.1623 - accuracy: 0.9550\n",
      "Epoch 8: val_loss improved from 0.27078 to 0.25372, saving model to ./data\\best_ann_model.h5\n",
      "600/600 [==============================] - 1s 2ms/step - loss: 0.1625 - accuracy: 0.9551 - val_loss: 0.2537 - val_accuracy: 0.9473\n",
      "Epoch 9/20\n",
      "583/600 [============================>.] - ETA: 0s - loss: 0.1473 - accuracy: 0.9587\n",
      "Epoch 9: val_loss did not improve from 0.25372\n",
      "600/600 [==============================] - 1s 2ms/step - loss: 0.1480 - accuracy: 0.9585 - val_loss: 0.2664 - val_accuracy: 0.9471\n",
      "Epoch 10/20\n",
      "587/600 [============================>.] - ETA: 0s - loss: 0.1406 - accuracy: 0.9615\n",
      "Epoch 10: val_loss did not improve from 0.25372\n",
      "Restoring model weights from the end of the best epoch: 8.\n",
      "600/600 [==============================] - 1s 2ms/step - loss: 0.1409 - accuracy: 0.9614 - val_loss: 0.2550 - val_accuracy: 0.9514\n",
      "Epoch 10: early stopping\n"
     ]
    }
   ],
   "source": [
    "# 255.0 나눠서 0~1로 값 축소하는 일은 하지 않는다\n",
    "model.compile(optimizer='adam', loss='sparse_categorical_crossentropy', metrics='accuracy')\n",
    "checkpoint_cb = keras.callbacks.ModelCheckpoint('./data/best_ann_model.h5', save_best_only=True, verbose=1)\n",
    "early_stopping_cb = keras.callbacks.EarlyStopping(patience=2, restore_best_weights=True, verbose=1)\n",
    "history = model.fit(train_input, train_target, epochs=20, verbose=1, validation_data=(test_input, test_target),\n",
    "                    batch_size=100, callbacks=[checkpoint_cb, early_stopping_cb])"
   ]
  },
  {
   "cell_type": "code",
   "execution_count": 9,
   "metadata": {},
   "outputs": [
    {
     "data": {
      "image/png": "[encoded data removed]",
      "text/plain": [
       "<Figure size 720x360 with 1 Axes>"
      ]
     },
     "metadata": {
      "needs_background": "light"
     },
     "output_type": "display_data"
    }
   ],
   "source": [
    "plot_target = ['loss', 'val_loss', 'accuracy', 'val_accuracy']\n",
    "plt.figure(figsize=(10, 5))\n",
    "\n",
    "for each in plot_target:\n",
    "    plt.plot(history.history[each], label=each)\n",
    "plt.legend()\n",
    "plt.show()"
   ]
  },
  {
   "cell_type": "code",
   "execution_count": 10,
   "metadata": {},
   "outputs": [
    {
     "name": "stdout",
     "output_type": "stream",
     "text": [
      "313/313 [==============================] - 1s 1ms/step - loss: 0.2537 - accuracy: 0.9473\n"
     ]
    },
    {
     "data": {
      "text/plain": [
       "[0.25372156500816345, 0.9473000168800354]"
      ]
     },
     "execution_count": 10,
     "metadata": {},
     "output_type": "execute_result"
    }
   ],
   "source": [
    "model.evaluate(test_input, test_target)"
   ]
  },
  {
   "cell_type": "code",
   "execution_count": 11,
   "metadata": {},
   "outputs": [
    {
     "name": "stdout",
     "output_type": "stream",
     "text": [
      "313/313 [==============================] - 0s 1ms/step\n"
     ]
    }
   ],
   "source": [
    "# 예측된 결과값 리스트\n",
    "pred_result = model.predict(test_input)"
   ]
  },
  {
   "cell_type": "code",
   "execution_count": 12,
   "metadata": {},
   "outputs": [
    {
     "data": {
      "text/plain": [
       "(10000,)"
      ]
     },
     "execution_count": 12,
     "metadata": {},
     "output_type": "execute_result"
    }
   ],
   "source": [
    "pred_labels = np.argmax(pred_result, axis=-1)\n",
    "pred_labels[:10]\n",
    "pred_labels.shape"
   ]
  },
  {
   "cell_type": "markdown",
   "metadata": {},
   "source": [
    "##### 예측 실패한 이미지를 파악한다"
   ]
  },
  {
   "cell_type": "code",
   "execution_count": 13,
   "metadata": {},
   "outputs": [
    {
     "data": {
      "text/plain": [
       "527"
      ]
     },
     "execution_count": 13,
     "metadata": {},
     "output_type": "execute_result"
    }
   ],
   "source": [
    "wrong_result = []\n",
    "for i in range(0, len(test_target)):\n",
    "    if pred_labels[i] != test_target[i]:\n",
    "        wrong_result.append(i)\n",
    "    \n",
    "    \n",
    "len(wrong_result)"
   ]
  },
  {
   "cell_type": "code",
   "execution_count": 15,
   "metadata": {},
   "outputs": [
    {
     "data": {
      "text/plain": [
       "16"
      ]
     },
     "execution_count": 15,
     "metadata": {},
     "output_type": "execute_result"
    }
   ],
   "source": [
    "import random\n",
    "\n",
    "samples = random.choices(population=wrong_result, k=16)\n",
    "len(samples)"
   ]
  },
  {
   "cell_type": "code",
   "execution_count": 19,
   "metadata": {},
   "outputs": [
    {
     "data": {
      "image/png": "[encoded data removed]",
      "text/plain": [
       "<Figure size 1008x864 with 16 Axes>"
      ]
     },
     "metadata": {
      "needs_background": "light"
     },
     "output_type": "display_data"
    }
   ],
   "source": [
    "# 예측 실패한 이미지 확인\n",
    "plt.figure(figsize=(14, 12))\n",
    "\n",
    "for idx, n in enumerate(samples):\n",
    "    plt.subplot(4, 4, idx+1)\n",
    "    plt.imshow(test_input[n].reshape(28, 28), cmap='gray_r', interpolation='nearest')\n",
    "    plt.title(f'label={test_target[n]} / preedict={pred_labels[n]}')\n",
    "    plt.axis('off')\n",
    "    \n",
    "plt.show()"
   ]
  },
  {
   "cell_type": "code",
   "execution_count": null,
   "metadata": {},
   "outputs": [],
   "source": []
  }
 ],
 "metadata": {
  "kernelspec": {
   "display_name": "Python 3.10.5 64-bit",
   "language": "python",
   "name": "python3"
  },
  "language_info": {
   "codemirror_mode": {
    "name": "ipython",
    "version": 3
   },
   "file_extension": ".py",
   "mimetype": "text/x-python",
   "name": "python",
   "nbconvert_exporter": "python",
   "pygments_lexer": "ipython3",
   "version": "3.10.5"
  },
  "orig_nbformat": 4,
  "vscode": {
   "interpreter": {
    "hash": "beedbe2faf2f7048d727558d0bc3221e7eba2a0b921cac4d4771b2feb8f74b30"
   }
  }
 },
 "nbformat": 4,
 "nbformat_minor": 2
}
